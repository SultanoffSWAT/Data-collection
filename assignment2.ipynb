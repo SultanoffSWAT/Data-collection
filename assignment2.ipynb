{
  "metadata": {
    "kernelspec": {
      "name": "python",
      "display_name": "Python (Pyodide)",
      "language": "python"
    },
    "language_info": {
      "codemirror_mode": {
        "name": "python",
        "version": 3
      },
      "file_extension": ".py",
      "mimetype": "text/x-python",
      "name": "python",
      "nbconvert_exporter": "python",
      "pygments_lexer": "ipython3",
      "version": "3.8"
    }
  },
  "nbformat_minor": 4,
  "nbformat": 4,
  "cells": [
    {
      "cell_type": "code",
      "source": "import pandas as pd\nimport numpy as np\n# Second Highest Salary\ndata = {\n    \"id\": range(1, 11),  # Sample IDs from 1 to 10\n    \"salary\": [70000, 85000, 85000, 50000, 95000, 95000, 80000, 45000, 40000, 60000]  # Various salaries, including duplicates\n}\n\nemployee = pd.DataFrame(data)\n\nemployee",
      "metadata": {
        "trusted": true
      },
      "outputs": [
        {
          "execution_count": 153,
          "output_type": "execute_result",
          "data": {
            "text/plain": "   id  salary\n0   1   70000\n1   2   85000\n2   3   85000\n3   4   50000\n4   5   95000\n5   6   95000\n6   7   80000\n7   8   45000\n8   9   40000\n9  10   60000",
            "text/html": "<div>\n<style scoped>\n    .dataframe tbody tr th:only-of-type {\n        vertical-align: middle;\n    }\n\n    .dataframe tbody tr th {\n        vertical-align: top;\n    }\n\n    .dataframe thead th {\n        text-align: right;\n    }\n</style>\n<table border=\"1\" class=\"dataframe\">\n  <thead>\n    <tr style=\"text-align: right;\">\n      <th></th>\n      <th>id</th>\n      <th>salary</th>\n    </tr>\n  </thead>\n  <tbody>\n    <tr>\n      <th>0</th>\n      <td>1</td>\n      <td>70000</td>\n    </tr>\n    <tr>\n      <th>1</th>\n      <td>2</td>\n      <td>85000</td>\n    </tr>\n    <tr>\n      <th>2</th>\n      <td>3</td>\n      <td>85000</td>\n    </tr>\n    <tr>\n      <th>3</th>\n      <td>4</td>\n      <td>50000</td>\n    </tr>\n    <tr>\n      <th>4</th>\n      <td>5</td>\n      <td>95000</td>\n    </tr>\n    <tr>\n      <th>5</th>\n      <td>6</td>\n      <td>95000</td>\n    </tr>\n    <tr>\n      <th>6</th>\n      <td>7</td>\n      <td>80000</td>\n    </tr>\n    <tr>\n      <th>7</th>\n      <td>8</td>\n      <td>45000</td>\n    </tr>\n    <tr>\n      <th>8</th>\n      <td>9</td>\n      <td>40000</td>\n    </tr>\n    <tr>\n      <th>9</th>\n      <td>10</td>\n      <td>60000</td>\n    </tr>\n  </tbody>\n</table>\n</div>"
          },
          "metadata": {}
        }
      ],
      "execution_count": 153
    },
    {
      "cell_type": "code",
      "source": "employee = employee.drop_duplicates(['salary'])\nemployee = employee.sort_values(['salary'], ascending=False).reset_index(drop=True)\nif len(employee)>1:\n    result = pd.DataFrame({'SecondHighestSalary' : [employee.iloc[1]['salary']]})\nelse:\n    result = pd.DataFrame({'SecondHighestSalary' : [None]})\nresult",
      "metadata": {
        "trusted": true
      },
      "outputs": [
        {
          "execution_count": 154,
          "output_type": "execute_result",
          "data": {
            "text/plain": "   SecondHighestSalary\n0                85000",
            "text/html": "<div>\n<style scoped>\n    .dataframe tbody tr th:only-of-type {\n        vertical-align: middle;\n    }\n\n    .dataframe tbody tr th {\n        vertical-align: top;\n    }\n\n    .dataframe thead th {\n        text-align: right;\n    }\n</style>\n<table border=\"1\" class=\"dataframe\">\n  <thead>\n    <tr style=\"text-align: right;\">\n      <th></th>\n      <th>SecondHighestSalary</th>\n    </tr>\n  </thead>\n  <tbody>\n    <tr>\n      <th>0</th>\n      <td>85000</td>\n    </tr>\n  </tbody>\n</table>\n</div>"
          },
          "metadata": {}
        }
      ],
      "execution_count": 154
    },
    {
      "cell_type": "code",
      "source": "# Capital gain loss\ndata = {\n    \"stock_name\": [\"AAPL\", \"AAPL\", \"AAPL\", \"GOOG\", \"GOOG\", \"AAPL\", \"GOOG\", \"AAPL\", \"GOOG\", \"AAPL\"],\n    \"operation\": [\"buy\", \"buy\", \"sell\", \"buy\", \"sell\", \"sell\", \"buy\", \"buy\", \"sell\", \"sell\"],\n    \"operation_day\": [1, 3, 5, 2, 4, 6, 7, 8, 9, 10],\n    \"price\": [150, 155, 160, 2700, 2750, 158, 2800, 152, 2900, 162]\n}\nstocks = pd.DataFrame(data)\nstocks",
      "metadata": {
        "trusted": true
      },
      "outputs": [
        {
          "execution_count": 164,
          "output_type": "execute_result",
          "data": {
            "text/plain": "  stock_name operation  operation_day  price\n0       AAPL       buy              1    150\n1       AAPL       buy              3    155\n2       AAPL      sell              5    160\n3       GOOG       buy              2   2700\n4       GOOG      sell              4   2750\n5       AAPL      sell              6    158\n6       GOOG       buy              7   2800\n7       AAPL       buy              8    152\n8       GOOG      sell              9   2900\n9       AAPL      sell             10    162",
            "text/html": "<div>\n<style scoped>\n    .dataframe tbody tr th:only-of-type {\n        vertical-align: middle;\n    }\n\n    .dataframe tbody tr th {\n        vertical-align: top;\n    }\n\n    .dataframe thead th {\n        text-align: right;\n    }\n</style>\n<table border=\"1\" class=\"dataframe\">\n  <thead>\n    <tr style=\"text-align: right;\">\n      <th></th>\n      <th>stock_name</th>\n      <th>operation</th>\n      <th>operation_day</th>\n      <th>price</th>\n    </tr>\n  </thead>\n  <tbody>\n    <tr>\n      <th>0</th>\n      <td>AAPL</td>\n      <td>buy</td>\n      <td>1</td>\n      <td>150</td>\n    </tr>\n    <tr>\n      <th>1</th>\n      <td>AAPL</td>\n      <td>buy</td>\n      <td>3</td>\n      <td>155</td>\n    </tr>\n    <tr>\n      <th>2</th>\n      <td>AAPL</td>\n      <td>sell</td>\n      <td>5</td>\n      <td>160</td>\n    </tr>\n    <tr>\n      <th>3</th>\n      <td>GOOG</td>\n      <td>buy</td>\n      <td>2</td>\n      <td>2700</td>\n    </tr>\n    <tr>\n      <th>4</th>\n      <td>GOOG</td>\n      <td>sell</td>\n      <td>4</td>\n      <td>2750</td>\n    </tr>\n    <tr>\n      <th>5</th>\n      <td>AAPL</td>\n      <td>sell</td>\n      <td>6</td>\n      <td>158</td>\n    </tr>\n    <tr>\n      <th>6</th>\n      <td>GOOG</td>\n      <td>buy</td>\n      <td>7</td>\n      <td>2800</td>\n    </tr>\n    <tr>\n      <th>7</th>\n      <td>AAPL</td>\n      <td>buy</td>\n      <td>8</td>\n      <td>152</td>\n    </tr>\n    <tr>\n      <th>8</th>\n      <td>GOOG</td>\n      <td>sell</td>\n      <td>9</td>\n      <td>2900</td>\n    </tr>\n    <tr>\n      <th>9</th>\n      <td>AAPL</td>\n      <td>sell</td>\n      <td>10</td>\n      <td>162</td>\n    </tr>\n  </tbody>\n</table>\n</div>"
          },
          "metadata": {}
        }
      ],
      "execution_count": 164
    },
    {
      "cell_type": "code",
      "source": "stocks = stocks.groupby(['stock_name','operation']).sum().reset_index()\nstocks['capital_gain_loss'] = stocks.groupby('stock_name')['price'].diff()\nstocks = stocks[stocks['capital_gain_loss'].notna()][['stock_name','capital_gain_loss']]\nstocks",
      "metadata": {
        "trusted": true
      },
      "outputs": [
        {
          "execution_count": 165,
          "output_type": "execute_result",
          "data": {
            "text/plain": "  stock_name  capital_gain_loss\n1       AAPL               23.0\n3       GOOG              150.0",
            "text/html": "<div>\n<style scoped>\n    .dataframe tbody tr th:only-of-type {\n        vertical-align: middle;\n    }\n\n    .dataframe tbody tr th {\n        vertical-align: top;\n    }\n\n    .dataframe thead th {\n        text-align: right;\n    }\n</style>\n<table border=\"1\" class=\"dataframe\">\n  <thead>\n    <tr style=\"text-align: right;\">\n      <th></th>\n      <th>stock_name</th>\n      <th>capital_gain_loss</th>\n    </tr>\n  </thead>\n  <tbody>\n    <tr>\n      <th>1</th>\n      <td>AAPL</td>\n      <td>23.0</td>\n    </tr>\n    <tr>\n      <th>3</th>\n      <td>GOOG</td>\n      <td>150.0</td>\n    </tr>\n  </tbody>\n</table>\n</div>"
          },
          "metadata": {}
        }
      ],
      "execution_count": 165
    },
    {
      "cell_type": "code",
      "source": "from datetime import datetime\n# Movie rating\nmovies_data = {\n    'movie_id': [1, 2, 3, 4],\n    'title': ['Inception', 'The Matrix', 'Interstellar', 'The Dark Knight']\n}\nmovies = pd.DataFrame(movies_data)\n\nusers_data = {\n    'user_id': [101, 102, 103, 104],\n    'name': ['Alice', 'Bob', 'Charlie', 'David']\n}\nusers = pd.DataFrame(users_data)\n\nratings_data = {\n    'movie_id': [1, 2, 3, 1, 4, 3],\n    'user_id': [101, 102, 101, 103, 104, 102],\n    'rating': [5, 4, 5, 3, 5, 4],\n    'created_at': [datetime(2020, 1, 1), datetime(2020, 2, 2), datetime(2020, 1, 3), datetime(2020, 2, 4), datetime(2020, 2, 5), datetime(2020, 1, 6)]\n}\nmovie_rating = pd.DataFrame(ratings_data)",
      "metadata": {
        "trusted": true
      },
      "outputs": [
        {
          "execution_count": 185,
          "output_type": "execute_result",
          "data": {
            "text/plain": "   user_id     name\n0      101    Alice\n1      102      Bob\n2      103  Charlie\n3      104    David",
            "text/html": "<div>\n<style scoped>\n    .dataframe tbody tr th:only-of-type {\n        vertical-align: middle;\n    }\n\n    .dataframe tbody tr th {\n        vertical-align: top;\n    }\n\n    .dataframe thead th {\n        text-align: right;\n    }\n</style>\n<table border=\"1\" class=\"dataframe\">\n  <thead>\n    <tr style=\"text-align: right;\">\n      <th></th>\n      <th>user_id</th>\n      <th>name</th>\n    </tr>\n  </thead>\n  <tbody>\n    <tr>\n      <th>0</th>\n      <td>101</td>\n      <td>Alice</td>\n    </tr>\n    <tr>\n      <th>1</th>\n      <td>102</td>\n      <td>Bob</td>\n    </tr>\n    <tr>\n      <th>2</th>\n      <td>103</td>\n      <td>Charlie</td>\n    </tr>\n    <tr>\n      <th>3</th>\n      <td>104</td>\n      <td>David</td>\n    </tr>\n  </tbody>\n</table>\n</div>"
          },
          "metadata": {}
        }
      ],
      "execution_count": 185
    },
    {
      "cell_type": "code",
      "source": "Users_df = movie_rating.merge(users, on='user_id', how='left')\nMovies_df = movie_rating.merge(movies, on='movie_id', how='left')\nMovies_df = Movies_df[Movies_df['created_at'].dt.to_period('M') == '2020-02']\nuser_max_rating_df = Users_df.groupby('name')['rating'].count().reset_index().sort_values(by=['rating', 'name'], ascending=[False, True]).head(1)\nmovie_highest_avg_df = Movies_df.groupby('title')['rating'].mean().reset_index().sort_values(by=['rating', 'title'], ascending=[False, True]).head(1)\nres = pd.concat([user_max_rating_df['name'],movie_highest_avg_df['title']]).to_frame()\nres.rename(columns={0:'results'})",
      "metadata": {
        "trusted": true
      },
      "outputs": [
        {
          "execution_count": 220,
          "output_type": "execute_result",
          "data": {
            "text/plain": "           results\n0            Alice\n1  The Dark Knight",
            "text/html": "<div>\n<style scoped>\n    .dataframe tbody tr th:only-of-type {\n        vertical-align: middle;\n    }\n\n    .dataframe tbody tr th {\n        vertical-align: top;\n    }\n\n    .dataframe thead th {\n        text-align: right;\n    }\n</style>\n<table border=\"1\" class=\"dataframe\">\n  <thead>\n    <tr style=\"text-align: right;\">\n      <th></th>\n      <th>results</th>\n    </tr>\n  </thead>\n  <tbody>\n    <tr>\n      <th>0</th>\n      <td>Alice</td>\n    </tr>\n    <tr>\n      <th>1</th>\n      <td>The Dark Knight</td>\n    </tr>\n  </tbody>\n</table>\n</div>"
          },
          "metadata": {}
        }
      ],
      "execution_count": 220
    },
    {
      "cell_type": "code",
      "source": "# 1st task\ndata = {\n    'company': ['Apple', 'Microsoft', 'Amazon', 'Alphabet', 'Tesla', 'Facebook', 'Berkshire Hathaway', 'Alibaba', 'Samsung', 'Tencent'],\n    'profits': [59.6, 51.3, 33.4, 40.3, 4.6, 29.1, 81.4, 16.5, 22.3, 34.0]\n}\n\nforbes_global = pd.DataFrame(data)\n\nforbes_global",
      "metadata": {
        "trusted": true
      },
      "outputs": [
        {
          "execution_count": 51,
          "output_type": "execute_result",
          "data": {
            "text/plain": "              company  profits\n0               Apple     59.6\n1           Microsoft     51.3\n2              Amazon     33.4\n3            Alphabet     40.3\n4               Tesla      4.6\n5            Facebook     29.1\n6  Berkshire Hathaway     81.4\n7             Alibaba     16.5\n8             Samsung     22.3\n9             Tencent     34.0",
            "text/html": "<div>\n<style scoped>\n    .dataframe tbody tr th:only-of-type {\n        vertical-align: middle;\n    }\n\n    .dataframe tbody tr th {\n        vertical-align: top;\n    }\n\n    .dataframe thead th {\n        text-align: right;\n    }\n</style>\n<table border=\"1\" class=\"dataframe\">\n  <thead>\n    <tr style=\"text-align: right;\">\n      <th></th>\n      <th>company</th>\n      <th>profits</th>\n    </tr>\n  </thead>\n  <tbody>\n    <tr>\n      <th>0</th>\n      <td>Apple</td>\n      <td>59.6</td>\n    </tr>\n    <tr>\n      <th>1</th>\n      <td>Microsoft</td>\n      <td>51.3</td>\n    </tr>\n    <tr>\n      <th>2</th>\n      <td>Amazon</td>\n      <td>33.4</td>\n    </tr>\n    <tr>\n      <th>3</th>\n      <td>Alphabet</td>\n      <td>40.3</td>\n    </tr>\n    <tr>\n      <th>4</th>\n      <td>Tesla</td>\n      <td>4.6</td>\n    </tr>\n    <tr>\n      <th>5</th>\n      <td>Facebook</td>\n      <td>29.1</td>\n    </tr>\n    <tr>\n      <th>6</th>\n      <td>Berkshire Hathaway</td>\n      <td>81.4</td>\n    </tr>\n    <tr>\n      <th>7</th>\n      <td>Alibaba</td>\n      <td>16.5</td>\n    </tr>\n    <tr>\n      <th>8</th>\n      <td>Samsung</td>\n      <td>22.3</td>\n    </tr>\n    <tr>\n      <th>9</th>\n      <td>Tencent</td>\n      <td>34.0</td>\n    </tr>\n  </tbody>\n</table>\n</div>"
          },
          "metadata": {}
        }
      ],
      "execution_count": 51
    },
    {
      "cell_type": "code",
      "source": "forbes_global = forbes_global.sort_values(['profits'], ascending=False)\nforbes_global.reset_index(drop=True).head(3)",
      "metadata": {
        "trusted": true
      },
      "outputs": [
        {
          "execution_count": 54,
          "output_type": "execute_result",
          "data": {
            "text/plain": "              company  profits\n0  Berkshire Hathaway     81.4\n1               Apple     59.6\n2           Microsoft     51.3",
            "text/html": "<div>\n<style scoped>\n    .dataframe tbody tr th:only-of-type {\n        vertical-align: middle;\n    }\n\n    .dataframe tbody tr th {\n        vertical-align: top;\n    }\n\n    .dataframe thead th {\n        text-align: right;\n    }\n</style>\n<table border=\"1\" class=\"dataframe\">\n  <thead>\n    <tr style=\"text-align: right;\">\n      <th></th>\n      <th>company</th>\n      <th>profits</th>\n    </tr>\n  </thead>\n  <tbody>\n    <tr>\n      <th>0</th>\n      <td>Berkshire Hathaway</td>\n      <td>81.4</td>\n    </tr>\n    <tr>\n      <th>1</th>\n      <td>Apple</td>\n      <td>59.6</td>\n    </tr>\n    <tr>\n      <th>2</th>\n      <td>Microsoft</td>\n      <td>51.3</td>\n    </tr>\n  </tbody>\n</table>\n</div>"
          },
          "metadata": {}
        }
      ],
      "execution_count": 54
    },
    {
      "cell_type": "code",
      "source": "data = {\n    'user_id': [101, 102, 103, 104, 105, 106, 107, 108, 109, 110, 111],\n    'name': ['Alice', 'Bob', 'Charlie', 'David', 'Eva', 'Frank', 'Grace', 'Hannah', 'Ivy', 'Jack', 'Me'],\n    'status': ['open', 'closed', 'open', 'open', 'closed', 'open', 'closed', 'open', 'open', 'closed', 'open'],\n    'country': ['USA', 'Canada', 'UK', 'Australia', 'Germany', 'India', 'France', 'Brazil', 'Japan', 'Mexico', 'USA']\n}\n\nfb_active_users = pd.DataFrame(data)\n\nfb_active_users",
      "metadata": {
        "trusted": true
      },
      "outputs": [
        {
          "execution_count": 61,
          "output_type": "execute_result",
          "data": {
            "text/plain": "    user_id     name  status    country\n0       101    Alice    open        USA\n1       102      Bob  closed     Canada\n2       103  Charlie    open         UK\n3       104    David    open  Australia\n4       105      Eva  closed    Germany\n5       106    Frank    open      India\n6       107    Grace  closed     France\n7       108   Hannah    open     Brazil\n8       109      Ivy    open      Japan\n9       110     Jack  closed     Mexico\n10      111       Me    open        USA",
            "text/html": "<div>\n<style scoped>\n    .dataframe tbody tr th:only-of-type {\n        vertical-align: middle;\n    }\n\n    .dataframe tbody tr th {\n        vertical-align: top;\n    }\n\n    .dataframe thead th {\n        text-align: right;\n    }\n</style>\n<table border=\"1\" class=\"dataframe\">\n  <thead>\n    <tr style=\"text-align: right;\">\n      <th></th>\n      <th>user_id</th>\n      <th>name</th>\n      <th>status</th>\n      <th>country</th>\n    </tr>\n  </thead>\n  <tbody>\n    <tr>\n      <th>0</th>\n      <td>101</td>\n      <td>Alice</td>\n      <td>open</td>\n      <td>USA</td>\n    </tr>\n    <tr>\n      <th>1</th>\n      <td>102</td>\n      <td>Bob</td>\n      <td>closed</td>\n      <td>Canada</td>\n    </tr>\n    <tr>\n      <th>2</th>\n      <td>103</td>\n      <td>Charlie</td>\n      <td>open</td>\n      <td>UK</td>\n    </tr>\n    <tr>\n      <th>3</th>\n      <td>104</td>\n      <td>David</td>\n      <td>open</td>\n      <td>Australia</td>\n    </tr>\n    <tr>\n      <th>4</th>\n      <td>105</td>\n      <td>Eva</td>\n      <td>closed</td>\n      <td>Germany</td>\n    </tr>\n    <tr>\n      <th>5</th>\n      <td>106</td>\n      <td>Frank</td>\n      <td>open</td>\n      <td>India</td>\n    </tr>\n    <tr>\n      <th>6</th>\n      <td>107</td>\n      <td>Grace</td>\n      <td>closed</td>\n      <td>France</td>\n    </tr>\n    <tr>\n      <th>7</th>\n      <td>108</td>\n      <td>Hannah</td>\n      <td>open</td>\n      <td>Brazil</td>\n    </tr>\n    <tr>\n      <th>8</th>\n      <td>109</td>\n      <td>Ivy</td>\n      <td>open</td>\n      <td>Japan</td>\n    </tr>\n    <tr>\n      <th>9</th>\n      <td>110</td>\n      <td>Jack</td>\n      <td>closed</td>\n      <td>Mexico</td>\n    </tr>\n    <tr>\n      <th>10</th>\n      <td>111</td>\n      <td>Me</td>\n      <td>open</td>\n      <td>USA</td>\n    </tr>\n  </tbody>\n</table>\n</div>"
          },
          "metadata": {}
        }
      ],
      "execution_count": 61
    },
    {
      "cell_type": "code",
      "source": "fb_active_users[(fb_active_users['status'] == 'open') & (fb_active_users['country'] == 'USA')].reset_index(drop=True)",
      "metadata": {
        "trusted": true
      },
      "outputs": [
        {
          "execution_count": 65,
          "output_type": "execute_result",
          "data": {
            "text/plain": "   user_id   name status country\n0      101  Alice   open     USA\n1      111     Me   open     USA",
            "text/html": "<div>\n<style scoped>\n    .dataframe tbody tr th:only-of-type {\n        vertical-align: middle;\n    }\n\n    .dataframe tbody tr th {\n        vertical-align: top;\n    }\n\n    .dataframe thead th {\n        text-align: right;\n    }\n</style>\n<table border=\"1\" class=\"dataframe\">\n  <thead>\n    <tr style=\"text-align: right;\">\n      <th></th>\n      <th>user_id</th>\n      <th>name</th>\n      <th>status</th>\n      <th>country</th>\n    </tr>\n  </thead>\n  <tbody>\n    <tr>\n      <th>0</th>\n      <td>101</td>\n      <td>Alice</td>\n      <td>open</td>\n      <td>USA</td>\n    </tr>\n    <tr>\n      <th>1</th>\n      <td>111</td>\n      <td>Me</td>\n      <td>open</td>\n      <td>USA</td>\n    </tr>\n  </tbody>\n</table>\n</div>"
          },
          "metadata": {}
        }
      ],
      "execution_count": 65
    },
    {
      "cell_type": "code",
      "source": "# 3\ndata_eu = {\n    'date': ['2024-01-01', '2024-01-02', '2024-01-03', '2024-01-04', '2024-01-05'],\n    'consumption': [120.5, 110.3, 130.0, 125.7, 118.9]\n}\nfb_eu_energy = pd.DataFrame(data_eu)\n\ndata_asia = {\n    'date': ['2024-01-01', '2024-01-02', '2024-01-03', '2024-01-04', '2024-01-05'],\n    'consumption': [200.5, 210.7, 205.3, 215.0, 198.6]\n}\nfb_asia_energy = pd.DataFrame(data_asia)\n\ndata_na = {\n    'date': ['2024-01-01', '2024-01-02', '2024-01-03', '2024-01-04', '2024-01-05'],\n    'consumption': [150.8, 145.3, 160.0, 155.2, 149.6]\n}\nfb_na_energy = pd.DataFrame(data_na)",
      "metadata": {
        "trusted": true
      },
      "outputs": [],
      "execution_count": 104
    },
    {
      "cell_type": "code",
      "source": "total = pd.concat([fb_eu_energy, fb_asia_energy, fb_na_energy]).reset_index(drop=True).groupby(by=['date']).sum()\ntotal.sort_values(['consumption'], ascending=False).head(1)\n",
      "metadata": {
        "trusted": true
      },
      "outputs": [
        {
          "execution_count": 112,
          "output_type": "execute_result",
          "data": {
            "text/plain": "            consumption\ndate                   \n2024-01-04        495.9",
            "text/html": "<div>\n<style scoped>\n    .dataframe tbody tr th:only-of-type {\n        vertical-align: middle;\n    }\n\n    .dataframe tbody tr th {\n        vertical-align: top;\n    }\n\n    .dataframe thead th {\n        text-align: right;\n    }\n</style>\n<table border=\"1\" class=\"dataframe\">\n  <thead>\n    <tr style=\"text-align: right;\">\n      <th></th>\n      <th>consumption</th>\n    </tr>\n    <tr>\n      <th>date</th>\n      <th></th>\n    </tr>\n  </thead>\n  <tbody>\n    <tr>\n      <th>2024-01-04</th>\n      <td>495.9</td>\n    </tr>\n  </tbody>\n</table>\n</div>"
          },
          "metadata": {}
        }
      ],
      "execution_count": 112
    },
    {
      "cell_type": "code",
      "source": "",
      "metadata": {
        "trusted": true
      },
      "outputs": [],
      "execution_count": null
    },
    {
      "cell_type": "code",
      "source": "# 4\ndata = {\n    'start_date': ['2024-10-01 08:30:00', '2024-10-01 10:00:00', '2024-10-02 12:15:00', '2024-10-03 15:30:00', '2024-10-04 09:45:00'],\n    'end_date': ['2024-10-01 09:00:00', '2024-10-01 10:45:00', '2024-10-02 13:00:00', '2024-10-03 16:15:00', '2024-10-04 10:30:00'],\n    'category': ['Business', 'Personal', 'Business', 'Personal', 'Business'],\n    'start': ['Downtown', 'Airport', 'Office', 'Mall', 'Station'],\n    'stop': ['Airport', 'Downtown', 'Client Site', 'Home', 'Downtown'],\n    'miles': [12.5, 18.3, 10.8, 15.6, 5.4],\n    'purpose': ['Meeting', 'Leisure', 'Client Visit', 'Shopping', 'Meeting']\n}\n\ndata['start_date'] = pd.to_datetime(data['start_date'])\ndata['end_date'] = pd.to_datetime(data['end_date'])\n\nmy_uber_drives = pd.DataFrame(data)\nmy_uber_drives",
      "metadata": {
        "trusted": true
      },
      "outputs": [
        {
          "execution_count": 69,
          "output_type": "execute_result",
          "data": {
            "text/plain": "           start_date            end_date  category     start         stop  \\\n0 2024-10-01 08:30:00 2024-10-01 09:00:00  Business  Downtown      Airport   \n1 2024-10-01 10:00:00 2024-10-01 10:45:00  Personal   Airport     Downtown   \n2 2024-10-02 12:15:00 2024-10-02 13:00:00  Business    Office  Client Site   \n3 2024-10-03 15:30:00 2024-10-03 16:15:00  Personal      Mall         Home   \n4 2024-10-04 09:45:00 2024-10-04 10:30:00  Business   Station     Downtown   \n\n   miles       purpose  \n0   12.5       Meeting  \n1   18.3       Leisure  \n2   10.8  Client Visit  \n3   15.6      Shopping  \n4    5.4       Meeting  ",
            "text/html": "<div>\n<style scoped>\n    .dataframe tbody tr th:only-of-type {\n        vertical-align: middle;\n    }\n\n    .dataframe tbody tr th {\n        vertical-align: top;\n    }\n\n    .dataframe thead th {\n        text-align: right;\n    }\n</style>\n<table border=\"1\" class=\"dataframe\">\n  <thead>\n    <tr style=\"text-align: right;\">\n      <th></th>\n      <th>start_date</th>\n      <th>end_date</th>\n      <th>category</th>\n      <th>start</th>\n      <th>stop</th>\n      <th>miles</th>\n      <th>purpose</th>\n    </tr>\n  </thead>\n  <tbody>\n    <tr>\n      <th>0</th>\n      <td>2024-10-01 08:30:00</td>\n      <td>2024-10-01 09:00:00</td>\n      <td>Business</td>\n      <td>Downtown</td>\n      <td>Airport</td>\n      <td>12.5</td>\n      <td>Meeting</td>\n    </tr>\n    <tr>\n      <th>1</th>\n      <td>2024-10-01 10:00:00</td>\n      <td>2024-10-01 10:45:00</td>\n      <td>Personal</td>\n      <td>Airport</td>\n      <td>Downtown</td>\n      <td>18.3</td>\n      <td>Leisure</td>\n    </tr>\n    <tr>\n      <th>2</th>\n      <td>2024-10-02 12:15:00</td>\n      <td>2024-10-02 13:00:00</td>\n      <td>Business</td>\n      <td>Office</td>\n      <td>Client Site</td>\n      <td>10.8</td>\n      <td>Client Visit</td>\n    </tr>\n    <tr>\n      <th>3</th>\n      <td>2024-10-03 15:30:00</td>\n      <td>2024-10-03 16:15:00</td>\n      <td>Personal</td>\n      <td>Mall</td>\n      <td>Home</td>\n      <td>15.6</td>\n      <td>Shopping</td>\n    </tr>\n    <tr>\n      <th>4</th>\n      <td>2024-10-04 09:45:00</td>\n      <td>2024-10-04 10:30:00</td>\n      <td>Business</td>\n      <td>Station</td>\n      <td>Downtown</td>\n      <td>5.4</td>\n      <td>Meeting</td>\n    </tr>\n  </tbody>\n</table>\n</div>"
          },
          "metadata": {}
        }
      ],
      "execution_count": 69
    },
    {
      "cell_type": "code",
      "source": "my_uber_drivesB = my_uber_drives[my_uber_drives['category']=='Business']\nmy_uber_drivesB.groupby(by=['purpose']).sum(numeric_only=True).sort_values(['miles'], ascending=False).head(3)",
      "metadata": {
        "trusted": true
      },
      "outputs": [
        {
          "execution_count": 102,
          "output_type": "execute_result",
          "data": {
            "text/plain": "              miles\npurpose            \nMeeting        17.9\nClient Visit   10.8",
            "text/html": "<div>\n<style scoped>\n    .dataframe tbody tr th:only-of-type {\n        vertical-align: middle;\n    }\n\n    .dataframe tbody tr th {\n        vertical-align: top;\n    }\n\n    .dataframe thead th {\n        text-align: right;\n    }\n</style>\n<table border=\"1\" class=\"dataframe\">\n  <thead>\n    <tr style=\"text-align: right;\">\n      <th></th>\n      <th>miles</th>\n    </tr>\n    <tr>\n      <th>purpose</th>\n      <th></th>\n    </tr>\n  </thead>\n  <tbody>\n    <tr>\n      <th>Meeting</th>\n      <td>17.9</td>\n    </tr>\n    <tr>\n      <th>Client Visit</th>\n      <td>10.8</td>\n    </tr>\n  </tbody>\n</table>\n</div>"
          },
          "metadata": {}
        }
      ],
      "execution_count": 102
    },
    {
      "cell_type": "code",
      "source": "data = {\n    'id' : [1,2,3,4,5,6,7,8,9],\n    'salary' : [1000, 1000, 2000, 3000, 5000, 10000, 2000, 2000, 2000]\n }\n\ndf = pd.DataFrame(data)\ndf\n",
      "metadata": {
        "trusted": true
      },
      "outputs": [
        {
          "execution_count": 117,
          "output_type": "execute_result",
          "data": {
            "text/plain": "   id  salary\n0   1    1000\n1   2    1000\n2   3    2000\n3   4    3000\n4   5    5000\n5   6   10000\n6   7    2000\n7   8    2000\n8   9    2000",
            "text/html": "<div>\n<style scoped>\n    .dataframe tbody tr th:only-of-type {\n        vertical-align: middle;\n    }\n\n    .dataframe tbody tr th {\n        vertical-align: top;\n    }\n\n    .dataframe thead th {\n        text-align: right;\n    }\n</style>\n<table border=\"1\" class=\"dataframe\">\n  <thead>\n    <tr style=\"text-align: right;\">\n      <th></th>\n      <th>id</th>\n      <th>salary</th>\n    </tr>\n  </thead>\n  <tbody>\n    <tr>\n      <th>0</th>\n      <td>1</td>\n      <td>1000</td>\n    </tr>\n    <tr>\n      <th>1</th>\n      <td>2</td>\n      <td>1000</td>\n    </tr>\n    <tr>\n      <th>2</th>\n      <td>3</td>\n      <td>2000</td>\n    </tr>\n    <tr>\n      <th>3</th>\n      <td>4</td>\n      <td>3000</td>\n    </tr>\n    <tr>\n      <th>4</th>\n      <td>5</td>\n      <td>5000</td>\n    </tr>\n    <tr>\n      <th>5</th>\n      <td>6</td>\n      <td>10000</td>\n    </tr>\n    <tr>\n      <th>6</th>\n      <td>7</td>\n      <td>2000</td>\n    </tr>\n    <tr>\n      <th>7</th>\n      <td>8</td>\n      <td>2000</td>\n    </tr>\n    <tr>\n      <th>8</th>\n      <td>9</td>\n      <td>2000</td>\n    </tr>\n  </tbody>\n</table>\n</div>"
          },
          "metadata": {}
        }
      ],
      "execution_count": 117
    },
    {
      "cell_type": "code",
      "source": "df.drop_duplicates(subset='salary')",
      "metadata": {
        "trusted": true
      },
      "outputs": [
        {
          "execution_count": 119,
          "output_type": "execute_result",
          "data": {
            "text/plain": "   id  salary\n0   1    1000\n2   3    2000\n3   4    3000\n4   5    5000\n5   6   10000",
            "text/html": "<div>\n<style scoped>\n    .dataframe tbody tr th:only-of-type {\n        vertical-align: middle;\n    }\n\n    .dataframe tbody tr th {\n        vertical-align: top;\n    }\n\n    .dataframe thead th {\n        text-align: right;\n    }\n</style>\n<table border=\"1\" class=\"dataframe\">\n  <thead>\n    <tr style=\"text-align: right;\">\n      <th></th>\n      <th>id</th>\n      <th>salary</th>\n    </tr>\n  </thead>\n  <tbody>\n    <tr>\n      <th>0</th>\n      <td>1</td>\n      <td>1000</td>\n    </tr>\n    <tr>\n      <th>2</th>\n      <td>3</td>\n      <td>2000</td>\n    </tr>\n    <tr>\n      <th>3</th>\n      <td>4</td>\n      <td>3000</td>\n    </tr>\n    <tr>\n      <th>4</th>\n      <td>5</td>\n      <td>5000</td>\n    </tr>\n    <tr>\n      <th>5</th>\n      <td>6</td>\n      <td>10000</td>\n    </tr>\n  </tbody>\n</table>\n</div>"
          },
          "metadata": {}
        }
      ],
      "execution_count": 119
    }
  ]
}